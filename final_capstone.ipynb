{
 "cells": [
  {
   "cell_type": "markdown",
   "metadata": {},
   "source": [
    "# Applied Data Science Capstone - Final Project"
   ]
  },
  {
   "cell_type": "markdown",
   "metadata": {},
   "source": [
    "## Part 1-1: Problem formulation\n",
    "### Do businesses (venues) in Manhattan closer to a subway station have a different rating than others?\n",
    "\n",
    "Easy accessibility by public transportation (subway) might improve certain businesses' ratings, like a gym. On the other hand, being in an overly busy area can lower the ratings of other businesses, such as restaurants. The aim of this project is to identify business categories that have high or low and positive or negative rating sensitivity to the proximity of subway stations.\n",
    "\n"
   ]
  },
  {
   "cell_type": "markdown",
   "metadata": {},
   "source": [
    "## Part 1-2: Data sources and analysis\n",
    "\n",
    "### The datasets come from public sources.  \n",
    "\n",
    "Neighborhood coordinates data:\n",
    "\n",
    "https://data.beta.nyc/dataset/pediacities-nyc-neighborhoods/resource/35dd04fb-81b3-479b-a074-a27a37888ce7\n",
    "\n",
    "Subway station data:\n",
    "\n",
    "https://data.cityofnewyork.us/Transportation/Subway-Stations/arq3-7z49\n",
    "\n",
    "Business venue data:\n",
    "\n",
    "Foursquare\n",
    "\n",
    "### Outline of the analysis:\n",
    "- Identify subway stations and assign them to Manhattan neighborhoods\n",
    "- Calculate venues' distance to the closest subway station\n",
    "- Identify venue categories\n",
    "- Explore ratings by distance, neighborhood and venue category\n",
    "- Train a regression model on a training subset of the data\n",
    "- Try predicting ratings based on distance, neighborhood and venue category\n",
    "- Evaluate the results\n",
    "\n"
   ]
  },
  {
   "cell_type": "code",
   "execution_count": null,
   "metadata": {},
   "outputs": [],
   "source": []
  }
 ],
 "metadata": {
  "kernelspec": {
   "display_name": "Python 3",
   "language": "python",
   "name": "python3"
  },
  "language_info": {
   "codemirror_mode": {
    "name": "ipython",
    "version": 3
   },
   "file_extension": ".py",
   "mimetype": "text/x-python",
   "name": "python",
   "nbconvert_exporter": "python",
   "pygments_lexer": "ipython3",
   "version": "3.7.6"
  }
 },
 "nbformat": 4,
 "nbformat_minor": 4
}
